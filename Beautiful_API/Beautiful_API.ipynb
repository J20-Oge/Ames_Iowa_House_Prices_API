{
 "cells": [
  {
   "cell_type": "code",
   "execution_count": 1,
   "metadata": {},
   "outputs": [
    {
     "name": "stdout",
     "output_type": "stream",
     "text": [
      "Model Loaded\n",
      "Model columns loaded\n",
      " * Serving Flask app \"__main__\" (lazy loading)\n",
      " * Environment: production\n",
      "   WARNING: This is a development server. Do not use it in a production deployment.\n",
      "   Use a production WSGI server instead.\n",
      " * Debug mode: on\n"
     ]
    },
    {
     "name": "stderr",
     "output_type": "stream",
     "text": [
      " * Running on http://127.0.0.1:12345/ (Press CTRL+C to quit)\n",
      "127.0.0.1 - - [22/Oct/2021 16:17:12] \"\u001b[37mPOST /predict HTTP/1.1\u001b[0m\" 200 -\n"
     ]
    },
    {
     "name": "stdout",
     "output_type": "stream",
     "text": [
      "[{'Total_Bath': 3, 'Lot_Area': 20000}]\n"
     ]
    }
   ],
   "source": [
    "## Dependencies \n",
    "from flask import Flask, request, jsonify\n",
    "import sklearn.externals\n",
    "import joblib\n",
    "import traceback\n",
    "import pandas as pd\n",
    "import numpy as np \n",
    "\n",
    "\n",
    "## API Definition \n",
    "app = Flask(__name__)\n",
    "\n",
    "\n",
    "@app.route('/')\n",
    "\n",
    "def welcome():\n",
    "    return \"Ames Iowa House Price Prediction\"\n",
    "\n",
    "\n",
    "\n",
    "\n",
    "@app.route('/predict', methods=['POST']) ## the API endpoint URL would consist /predict\n",
    "\n",
    "def predict():\n",
    "    \n",
    "    if lr:\n",
    "        \n",
    "        try:\n",
    "            \n",
    "            json_ = request.json\n",
    "            print(json_)\n",
    "            query = pd.get_dummies(pd.DataFrame(json_))\n",
    "            query = query.reindex(columns=model_columns, fill_value=0)\n",
    "            prediction = np.exp(list(lr.predict(query))).round(0)\n",
    "            \n",
    "            \n",
    "            return jsonify({'prediction': str(prediction)})\n",
    "        \n",
    "        except:\n",
    "            \n",
    "            return jsonify({'trace': traceback.format_exc()})\n",
    "        \n",
    "        else:\n",
    "            \n",
    "            print('Train the model first')\n",
    "            \n",
    "            print('No model here to use')\n",
    "            \n",
    "            \n",
    "## Either this             \n",
    "if __name__ == '__main__':\n",
    "    \n",
    "    try:\n",
    "         port = int(sys.argv[1])\n",
    "        \n",
    "    except:\n",
    "        \n",
    "        port = 12345 ## if port is not provided, the port will be set to 12345\n",
    "        \n",
    "\n",
    "lr = joblib.load('model.pkl') ## load \" model.pkl\"\n",
    "    \n",
    "print('Model Loaded')\n",
    "\n",
    "model_columns = joblib.load('model_columns.pkl') ## load \"model_columns.pkl\"\n",
    "\n",
    "print('Model columns loaded')\n",
    "\n",
    "app.run(port = port, debug = True, use_reloader = False)\n",
    "\n",
    "    \n",
    "## OR  this will work ##\n",
    "    \n",
    "#if __name__ == \"__main__\":\n",
    "   # app.run()"
   ]
  },
  {
   "cell_type": "code",
   "execution_count": null,
   "metadata": {},
   "outputs": [],
   "source": []
  },
  {
   "cell_type": "code",
   "execution_count": null,
   "metadata": {},
   "outputs": [],
   "source": []
  },
  {
   "cell_type": "code",
   "execution_count": null,
   "metadata": {},
   "outputs": [],
   "source": []
  },
  {
   "cell_type": "code",
   "execution_count": null,
   "metadata": {},
   "outputs": [],
   "source": []
  }
 ],
 "metadata": {
  "kernelspec": {
   "display_name": "Python 3",
   "language": "python",
   "name": "python3"
  },
  "language_info": {
   "codemirror_mode": {
    "name": "ipython",
    "version": 3
   },
   "file_extension": ".py",
   "mimetype": "text/x-python",
   "name": "python",
   "nbconvert_exporter": "python",
   "pygments_lexer": "ipython3",
   "version": "3.8.3"
  },
  "toc": {
   "base_numbering": 1,
   "nav_menu": {},
   "number_sections": true,
   "sideBar": true,
   "skip_h1_title": false,
   "title_cell": "Table of Contents",
   "title_sidebar": "Contents",
   "toc_cell": false,
   "toc_position": {},
   "toc_section_display": true,
   "toc_window_display": false
  },
  "varInspector": {
   "cols": {
    "lenName": 16,
    "lenType": 16,
    "lenVar": 40
   },
   "kernels_config": {
    "python": {
     "delete_cmd_postfix": "",
     "delete_cmd_prefix": "del ",
     "library": "var_list.py",
     "varRefreshCmd": "print(var_dic_list())"
    },
    "r": {
     "delete_cmd_postfix": ") ",
     "delete_cmd_prefix": "rm(",
     "library": "var_list.r",
     "varRefreshCmd": "cat(var_dic_list()) "
    }
   },
   "types_to_exclude": [
    "module",
    "function",
    "builtin_function_or_method",
    "instance",
    "_Feature"
   ],
   "window_display": false
  }
 },
 "nbformat": 4,
 "nbformat_minor": 4
}
